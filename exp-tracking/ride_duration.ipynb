{
 "cells": [
  {
   "cell_type": "code",
   "execution_count": 1,
   "id": "40a95c9d",
   "metadata": {},
   "outputs": [],
   "source": [
    "\n",
    "#!pip uninstall numpy -y     # uninstall existing numpy\n",
    "#!pip install \"numpy<2.0\"\n",
    "\n",
    "import numpy as np\n",
    "import pandas as pd\n",
    "from sklearn.model_selection import train_test_split\n",
    "from sklearn.model_selection import train_test_split\n",
    "from sklearn.preprocessing import StandardScaler, OneHotEncoder\n",
    "from sklearn.compose import ColumnTransformer\n",
    "from sklearn.pipeline import Pipeline\n",
    "from sklearn.linear_model import LinearRegression\n",
    "from sklearn.metrics import mean_absolute_error, mean_squared_error\n",
    "\n",
    "from sklearn.feature_extraction import DictVectorizer\n",
    "import pickle"
   ]
  },
  {
   "cell_type": "code",
   "execution_count": 2,
   "id": "c5ef8f01",
   "metadata": {},
   "outputs": [
    {
     "data": {
      "text/plain": [
       "<Experiment: artifact_location='mlflow-artifacts:/965139444109075764', creation_time=1727092910601, experiment_id='965139444109075764', last_update_time=1727092910601, lifecycle_stage='active', name='NYCtaxi-ride-duration', tags={}>"
      ]
     },
     "execution_count": 2,
     "metadata": {},
     "output_type": "execute_result"
    }
   ],
   "source": [
    "#!pip install mlflow\n",
    "\n",
    "import mlflow\n",
    "mlflow.set_tracking_uri(\"http://127.0.0.1:5000\")\n",
    "mlflow.set_experiment(\"NYCtaxi-ride-duration\")\n",
    "\n",
    "\n"
   ]
  },
  {
   "cell_type": "code",
   "execution_count": 3,
   "id": "3edccacc",
   "metadata": {},
   "outputs": [],
   "source": [
    "def read_dataframe(filename):\n",
    "    \n",
    "    if filename.endswith('.csv'):\n",
    "        df = pd.read_csv(filename)\n",
    "    if filename.endswith('.parquet'):\n",
    "        df = pd.read_parquet(filename)\n",
    "    \n",
    "    df['lpep_pickup_datetime'] = pd.to_datetime(df['lpep_pickup_datetime'])\n",
    "    df['lpep_dropoff_datetime'] = pd.to_datetime(df['lpep_dropoff_datetime'])\n",
    "    \n",
    "    df['duration'] = (df['lpep_dropoff_datetime'] - df['lpep_pickup_datetime']).dt.total_seconds() / 60.0\n",
    "    \n",
    "    df = df[(df.duration > 0) & (df.duration <= 60)]\n",
    "    \n",
    "    df['pickup_hour'] = df['lpep_pickup_datetime'].dt.hour\n",
    "    df['pickup_day'] = df['lpep_pickup_datetime'].dt.dayofweek\n",
    "    \n",
    "    features = ['trip_distance', 'pickup_hour', 'pickup_day', 'PULocationID', 'DOLocationID','total_amount','duration']\n",
    "    \n",
    "    \n",
    "    return df[features]\n",
    "    \n",
    "    "
   ]
  },
  {
   "cell_type": "code",
   "execution_count": 4,
   "id": "c075d45f",
   "metadata": {},
   "outputs": [
    {
     "name": "stderr",
     "output_type": "stream",
     "text": [
      "/tmp/ipykernel_3973/3331328354.py:4: DtypeWarning: Columns (3) have mixed types. Specify dtype option on import or set low_memory=False.\n",
      "  df = pd.read_csv(filename)\n"
     ]
    }
   ],
   "source": [
    "df_train = read_dataframe('/workspaces/MLOps-TaxiTrpDuration/green_tripdata_2021-01.csv')\n",
    "df_val = read_dataframe('/workspaces/MLOps-TaxiTrpDuration/green_tripdata_2021-02.csv')"
   ]
  },
  {
   "cell_type": "code",
   "execution_count": 5,
   "id": "d432ef30",
   "metadata": {
    "scrolled": true
   },
   "outputs": [],
   "source": [
    "X_train = df_train.iloc[:, :-1]\n",
    "y_train = df_train['duration']\n",
    "\n",
    "X_val = df_val.iloc[:, :-1]\n",
    "y_val = df_val['duration']"
   ]
  },
  {
   "cell_type": "code",
   "execution_count": 6,
   "id": "0bb11226",
   "metadata": {
    "scrolled": true
   },
   "outputs": [],
   "source": [
    "### training data\n",
    "\n",
    "# Convert the DataFrame to a list of dictionaries\n",
    "X_dict = X_train.to_dict(orient='records')\n",
    "\n",
    "# Initialize the DictVectorizer\n",
    "dict_vectorizer = DictVectorizer(sparse=False)\n",
    "\n",
    "# Fit and transform the data\n",
    "X_encoded_dict = dict_vectorizer.fit_transform(X_dict)\n",
    "\n",
    "\n",
    "### Validation data\n",
    "\n",
    "X_val_dict = X_val.to_dict(orient='records')\n",
    "\n",
    "dv = DictVectorizer(sparse=False)\n",
    "\n",
    "X_val_encoded_dict = dict_vectorizer.fit_transform(X_val_dict)\n",
    "\n"
   ]
  },
  {
   "cell_type": "code",
   "execution_count": 8,
   "id": "fd8605b5",
   "metadata": {},
   "outputs": [
    {
     "name": "stderr",
     "output_type": "stream",
     "text": [
      "/home/codespace/anaconda3/envs/exp-tracking-env/lib/python3.9/site-packages/sklearn/metrics/_regression.py:492: FutureWarning: 'squared' is deprecated in version 1.4 and will be removed in 1.6. To calculate the root mean squared error, use the function'root_mean_squared_error'.\n",
      "  warnings.warn(\n"
     ]
    }
   ],
   "source": [
    "# Initialize and train the Linear Regression model\n",
    "lr_model = LinearRegression()\n",
    "lr_model.fit(X_encoded_dict, y_train)\n",
    "\n",
    "#Predict and evaluate the Linear Regression model\n",
    "y_pred_lr = lr_model.predict(X_val_encoded_dict)\n",
    "\n",
    "rmse = float(mean_squared_error(y_val, y_pred_lr, squared=False))"
   ]
  },
  {
   "cell_type": "code",
   "execution_count": 9,
   "id": "0a1e155b",
   "metadata": {},
   "outputs": [
    {
     "data": {
      "text/plain": [
       "7.701738647933279"
      ]
     },
     "execution_count": 9,
     "metadata": {},
     "output_type": "execute_result"
    }
   ],
   "source": [
    "rmse"
   ]
  },
  {
   "cell_type": "code",
   "execution_count": 10,
   "id": "f050b106",
   "metadata": {},
   "outputs": [],
   "source": [
    "# save the models\n",
    "with open('/workspaces/MLOps-TaxiTrpDuration/models/lin_reg.bin', 'wb') as f_out:\n",
    "    pickle.dump((dv, lr_model), f_out)"
   ]
  },
  {
   "cell_type": "code",
   "execution_count": 9,
   "id": "d44ac993",
   "metadata": {},
   "outputs": [
    {
     "name": "stderr",
     "output_type": "stream",
     "text": [
      "2024/10/15 07:47:19 INFO mlflow.tracking._tracking_service.client: 🏃 View run linear_regression at: http://127.0.0.1:5000/#/experiments/965139444109075764/runs/623ebf10250a4eb5bb90d49a9ca94c2e.\n",
      "2024/10/15 07:47:19 INFO mlflow.tracking._tracking_service.client: 🧪 View experiment at: http://127.0.0.1:5000/#/experiments/965139444109075764.\n"
     ]
    }
   ],
   "source": [
    "with mlflow.start_run(run_name=\"linear_regression\"):\n",
    "    mlflow.set_tag(\"developer:\", \"nithin\")\n",
    "    mlflow.log_param(\"train-data\", \"green_tripdata_2021-01.csv\")\n",
    "    mlflow.log_param(\"val-data\", \"green_tripdata_2021-02.csv\")\n",
    "\n",
    "    mlflow.log_metric(\"mean_squared_error\" , rmse)\n",
    "\n",
    "    mlflow.log_artifact(local_path=\"/workspaces/MLOps-TaxiTrpDuration/models/lin_reg.bin\", artifact_path=\"models_pickle\")"
   ]
  },
  {
   "cell_type": "code",
   "execution_count": 7,
   "id": "861aa85f",
   "metadata": {},
   "outputs": [],
   "source": [
    "#! pip install xgboost\n",
    "import xgboost as xgb"
   ]
  },
  {
   "cell_type": "code",
   "execution_count": 8,
   "id": "55a42c6e",
   "metadata": {},
   "outputs": [],
   "source": [
    "#!pip install hyperopt\n",
    "from hyperopt import fmin, tpe, hp, STATUS_OK, Trials\n",
    "from hyperopt.pyll import scope"
   ]
  },
  {
   "cell_type": "code",
   "execution_count": 9,
   "id": "434bc6b9",
   "metadata": {},
   "outputs": [],
   "source": [
    "#train = xgb.DMatrix(X_train, label=y_train)\n",
    "#valid = xgb.DMatrix(X_val, label=y_val)\n",
    "\n",
    "train = xgb.DMatrix(X_encoded_dict, label=y_train)\n",
    "valid = xgb.DMatrix(X_val_encoded_dict, label=y_val)"
   ]
  },
  {
   "cell_type": "code",
   "execution_count": 13,
   "id": "fbdf4984",
   "metadata": {},
   "outputs": [],
   "source": [
    "# Define the objective function for Hyperopt\n",
    "def objective(params):\n",
    "    with mlflow.start_run():\n",
    "        mlflow.set_tag(\"model\", \"xgboost\")\n",
    "        mlflow.log_params(params)\n",
    "        booster = xgb.train(\n",
    "            params=params,\n",
    "            dtrain=train,\n",
    "            num_boost_round=100,\n",
    "            evals=[(valid, 'validation')],\n",
    "            early_stopping_rounds=10\n",
    "        )\n",
    "        #  Predict on the test set\n",
    "        y_pred = booster.predict(valid)\n",
    "\n",
    "        # Calculate RMSE\n",
    "        rmse = mean_squared_error(y_val, y_pred, squared=False)\n",
    "        mlflow.log_metric(\"rmse\", rmse)\n",
    "\n",
    "    return {'loss': rmse, 'status': STATUS_OK}"
   ]
  },
  {
   "cell_type": "code",
   "execution_count": 14,
   "id": "fe1c425a",
   "metadata": {},
   "outputs": [
    {
     "name": "stdout",
     "output_type": "stream",
     "text": [
      "  0%|          | 0/3 [00:00<?, ?trial/s, best loss=?]"
     ]
    },
    {
     "name": "stderr",
     "output_type": "stream",
     "text": [
      "/home/codespace/anaconda3/envs/exp-tracking-env/lib/python3.9/site-packages/xgboost/core.py:158: UserWarning: [07:47:20] WARNING: /workspace/src/objective/regression_obj.cu:227: reg:linear is now deprecated in favor of reg:squarederror.\n",
      "  warnings.warn(smsg, UserWarning)\n",
      "\n"
     ]
    },
    {
     "name": "stdout",
     "output_type": "stream",
     "text": [
      "[0]\tvalidation-rmse:11.82443                         \n",
      "[1]\tvalidation-rmse:11.36217                         \n",
      "[2]\tvalidation-rmse:10.93167                         \n",
      "[3]\tvalidation-rmse:10.53289                         \n",
      "[4]\tvalidation-rmse:10.16068                         \n",
      "[5]\tvalidation-rmse:9.81231                          \n",
      "[6]\tvalidation-rmse:9.48856                          \n",
      "[7]\tvalidation-rmse:9.18856                          \n",
      "[8]\tvalidation-rmse:8.91089                          \n",
      "[9]\tvalidation-rmse:8.65300                          \n",
      "[10]\tvalidation-rmse:8.41277                         \n",
      "[11]\tvalidation-rmse:8.19127                         \n",
      "[12]\tvalidation-rmse:7.98806                         \n",
      "[13]\tvalidation-rmse:7.79969                         \n",
      "[14]\tvalidation-rmse:7.62407                         \n",
      "[15]\tvalidation-rmse:7.46396                         \n",
      "[16]\tvalidation-rmse:7.31498                         \n",
      "[17]\tvalidation-rmse:7.17848                         \n",
      "[18]\tvalidation-rmse:7.05334                         \n",
      "[19]\tvalidation-rmse:6.93663                         \n",
      "[20]\tvalidation-rmse:6.82918                         \n",
      "[21]\tvalidation-rmse:6.73039                         \n",
      "[22]\tvalidation-rmse:6.63978                         \n",
      "[23]\tvalidation-rmse:6.55750                         \n",
      "[24]\tvalidation-rmse:6.48090                         \n",
      "[25]\tvalidation-rmse:6.40900                         \n",
      "[26]\tvalidation-rmse:6.34308                         \n",
      "[27]\tvalidation-rmse:6.28234                         \n",
      "[28]\tvalidation-rmse:6.22634                         \n",
      "[29]\tvalidation-rmse:6.17556                         \n",
      "[30]\tvalidation-rmse:6.12827                         \n",
      "[31]\tvalidation-rmse:6.08385                         \n",
      "[32]\tvalidation-rmse:6.04503                         \n",
      "[33]\tvalidation-rmse:6.00951                         \n",
      "[34]\tvalidation-rmse:5.97443                         \n",
      "[35]\tvalidation-rmse:5.94300                         \n",
      "[36]\tvalidation-rmse:5.91411                         \n",
      "[37]\tvalidation-rmse:5.88745                         \n",
      "[38]\tvalidation-rmse:5.86239                         \n",
      "[39]\tvalidation-rmse:5.83934                         \n",
      "[40]\tvalidation-rmse:5.81871                         \n",
      "[41]\tvalidation-rmse:5.79891                         \n",
      "[42]\tvalidation-rmse:5.77993                         \n",
      "[43]\tvalidation-rmse:5.76308                         \n",
      "[44]\tvalidation-rmse:5.74716                         \n",
      "[45]\tvalidation-rmse:5.73291                         \n",
      "[46]\tvalidation-rmse:5.71600                         \n",
      "[47]\tvalidation-rmse:5.70224                         \n",
      "[48]\tvalidation-rmse:5.68927                         \n",
      "[49]\tvalidation-rmse:5.67674                         \n",
      "[50]\tvalidation-rmse:5.66492                         \n",
      "[51]\tvalidation-rmse:5.65277                         \n",
      "[52]\tvalidation-rmse:5.64125                         \n",
      "[53]\tvalidation-rmse:5.63302                         \n",
      "[54]\tvalidation-rmse:5.62280                         \n",
      "[55]\tvalidation-rmse:5.61426                         \n",
      "[56]\tvalidation-rmse:5.60757                         \n",
      "[57]\tvalidation-rmse:5.60053                         \n",
      "[58]\tvalidation-rmse:5.59282                         \n",
      "[59]\tvalidation-rmse:5.58609                         \n",
      "[60]\tvalidation-rmse:5.57946                         \n",
      "[61]\tvalidation-rmse:5.57351                         \n",
      "[62]\tvalidation-rmse:5.56778                         \n",
      "[63]\tvalidation-rmse:5.56266                         \n",
      "[64]\tvalidation-rmse:5.55742                         \n",
      "[65]\tvalidation-rmse:5.55285                         \n",
      "[66]\tvalidation-rmse:5.54784                         \n",
      "[67]\tvalidation-rmse:5.54359                         \n",
      "[68]\tvalidation-rmse:5.53856                         \n",
      "[69]\tvalidation-rmse:5.53455                         \n",
      "[70]\tvalidation-rmse:5.53205                         \n",
      "[71]\tvalidation-rmse:5.52741                         \n",
      "[72]\tvalidation-rmse:5.52439                         \n",
      "[73]\tvalidation-rmse:5.52211                         \n",
      "[74]\tvalidation-rmse:5.51885                         \n",
      "[75]\tvalidation-rmse:5.51584                         \n",
      "[76]\tvalidation-rmse:5.51221                         \n",
      "[77]\tvalidation-rmse:5.50950                         \n",
      "[78]\tvalidation-rmse:5.50708                         \n",
      "[79]\tvalidation-rmse:5.50502                         \n",
      "[80]\tvalidation-rmse:5.50350                         \n",
      "[81]\tvalidation-rmse:5.50184                         \n",
      "[82]\tvalidation-rmse:5.50004                         \n",
      "[83]\tvalidation-rmse:5.49839                         \n",
      "[84]\tvalidation-rmse:5.49632                         \n",
      "[85]\tvalidation-rmse:5.49536                         \n",
      "[86]\tvalidation-rmse:5.49421                         \n",
      "[87]\tvalidation-rmse:5.49310                         \n",
      "[88]\tvalidation-rmse:5.49206                         \n",
      "[89]\tvalidation-rmse:5.49014                         \n",
      "[90]\tvalidation-rmse:5.48874                         \n",
      "[91]\tvalidation-rmse:5.48632                         \n",
      "[92]\tvalidation-rmse:5.48511                         \n",
      "[93]\tvalidation-rmse:5.48449                         \n",
      "[94]\tvalidation-rmse:5.48334                         \n",
      "[95]\tvalidation-rmse:5.48236                         \n",
      "[96]\tvalidation-rmse:5.48148                         \n",
      "[97]\tvalidation-rmse:5.48075                         \n",
      "[98]\tvalidation-rmse:5.48001                         \n",
      "[99]\tvalidation-rmse:5.47899                         \n",
      "  0%|          | 0/3 [00:08<?, ?trial/s, best loss=?]"
     ]
    },
    {
     "name": "stderr",
     "output_type": "stream",
     "text": [
      "/home/codespace/anaconda3/envs/exp-tracking-env/lib/python3.9/site-packages/sklearn/metrics/_regression.py:492: FutureWarning: 'squared' is deprecated in version 1.4 and will be removed in 1.6. To calculate the root mean squared error, use the function'root_mean_squared_error'.\n",
      "  warnings.warn(\n",
      "\n",
      "2024/10/15 07:47:30 INFO mlflow.tracking._tracking_service.client: 🏃 View run puzzled-panda-334 at: http://127.0.0.1:5000/#/experiments/965139444109075764/runs/fa159a660f754c698b55983289c4455f.\n",
      "\n",
      "2024/10/15 07:47:30 INFO mlflow.tracking._tracking_service.client: 🧪 View experiment at: http://127.0.0.1:5000/#/experiments/965139444109075764.\n",
      "\n"
     ]
    },
    {
     "name": "stdout",
     "output_type": "stream",
     "text": [
      " 33%|███▎      | 1/3 [00:09<00:18,  9.31s/trial, best loss: 5.478988060188435]"
     ]
    },
    {
     "name": "stderr",
     "output_type": "stream",
     "text": [
      "/home/codespace/anaconda3/envs/exp-tracking-env/lib/python3.9/site-packages/xgboost/core.py:158: UserWarning: [07:47:30] WARNING: /workspace/src/objective/regression_obj.cu:227: reg:linear is now deprecated in favor of reg:squarederror.\n",
      "  warnings.warn(smsg, UserWarning)\n",
      "\n"
     ]
    },
    {
     "name": "stdout",
     "output_type": "stream",
     "text": [
      "[0]\tvalidation-rmse:6.99778                                                   \n",
      "[1]\tvalidation-rmse:7.08041                                                   \n",
      "[2]\tvalidation-rmse:7.12651                                                   \n",
      "[3]\tvalidation-rmse:7.14063                                                   \n",
      "[4]\tvalidation-rmse:7.14257                                                   \n",
      "[5]\tvalidation-rmse:7.14378                                                   \n",
      "[6]\tvalidation-rmse:7.14480                                                   \n",
      "[7]\tvalidation-rmse:7.14597                                                   \n",
      "[8]\tvalidation-rmse:7.14591                                                   \n",
      "[9]\tvalidation-rmse:7.14589                                                   \n",
      " 33%|███▎      | 1/3 [00:12<00:18,  9.31s/trial, best loss: 5.478988060188435]"
     ]
    },
    {
     "name": "stderr",
     "output_type": "stream",
     "text": [
      "/home/codespace/anaconda3/envs/exp-tracking-env/lib/python3.9/site-packages/sklearn/metrics/_regression.py:492: FutureWarning: 'squared' is deprecated in version 1.4 and will be removed in 1.6. To calculate the root mean squared error, use the function'root_mean_squared_error'.\n",
      "  warnings.warn(\n",
      "\n",
      "2024/10/15 07:47:33 INFO mlflow.tracking._tracking_service.client: 🏃 View run enthused-quail-81 at: http://127.0.0.1:5000/#/experiments/965139444109075764/runs/defbab2f09c5456b803f4d668f5ce3c4.\n",
      "\n",
      "2024/10/15 07:47:33 INFO mlflow.tracking._tracking_service.client: 🧪 View experiment at: http://127.0.0.1:5000/#/experiments/965139444109075764.\n",
      "\n"
     ]
    },
    {
     "name": "stdout",
     "output_type": "stream",
     "text": [
      " 67%|██████▋   | 2/3 [00:12<00:05,  5.90s/trial, best loss: 5.478988060188435]"
     ]
    },
    {
     "name": "stderr",
     "output_type": "stream",
     "text": [
      "/home/codespace/anaconda3/envs/exp-tracking-env/lib/python3.9/site-packages/xgboost/core.py:158: UserWarning: [07:47:33] WARNING: /workspace/src/objective/regression_obj.cu:227: reg:linear is now deprecated in favor of reg:squarederror.\n",
      "  warnings.warn(smsg, UserWarning)\n",
      "\n"
     ]
    },
    {
     "name": "stdout",
     "output_type": "stream",
     "text": [
      "[0]\tvalidation-rmse:11.15351                                                  \n",
      "[1]\tvalidation-rmse:10.18068                                                  \n",
      "[2]\tvalidation-rmse:9.36289                                                   \n",
      "[3]\tvalidation-rmse:8.68828                                                   \n",
      "[4]\tvalidation-rmse:8.12586                                                   \n",
      "[5]\tvalidation-rmse:7.66435                                                   \n",
      "[6]\tvalidation-rmse:7.28972                                                   \n",
      "[7]\tvalidation-rmse:6.99095                                                   \n",
      "[8]\tvalidation-rmse:6.74443                                                   \n",
      "[9]\tvalidation-rmse:6.54686                                                   \n",
      "[10]\tvalidation-rmse:6.38843                                                  \n",
      "[11]\tvalidation-rmse:6.26286                                                  \n",
      "[12]\tvalidation-rmse:6.16181                                                  \n",
      "[13]\tvalidation-rmse:6.07925                                                  \n",
      "[14]\tvalidation-rmse:6.01307                                                  \n",
      "[15]\tvalidation-rmse:5.96135                                                  \n",
      "[16]\tvalidation-rmse:5.91994                                                  \n",
      "[17]\tvalidation-rmse:5.88476                                                  \n",
      "[18]\tvalidation-rmse:5.85765                                                  \n",
      "[19]\tvalidation-rmse:5.83502                                                  \n",
      "[20]\tvalidation-rmse:5.81569                                                  \n",
      "[21]\tvalidation-rmse:5.79957                                                  \n",
      "[22]\tvalidation-rmse:5.78372                                                  \n",
      "[23]\tvalidation-rmse:5.77286                                                  \n",
      "[24]\tvalidation-rmse:5.76318                                                  \n",
      "[25]\tvalidation-rmse:5.75543                                                  \n",
      "[26]\tvalidation-rmse:5.74878                                                  \n",
      "[27]\tvalidation-rmse:5.74408                                                  \n",
      "[28]\tvalidation-rmse:5.74005                                                  \n",
      "[29]\tvalidation-rmse:5.73638                                                  \n",
      "[30]\tvalidation-rmse:5.73319                                                  \n",
      "[31]\tvalidation-rmse:5.72948                                                  \n",
      "[32]\tvalidation-rmse:5.72652                                                  \n",
      "[33]\tvalidation-rmse:5.72511                                                  \n",
      "[34]\tvalidation-rmse:5.72301                                                  \n",
      "[35]\tvalidation-rmse:5.72143                                                  \n",
      "[36]\tvalidation-rmse:5.72001                                                  \n",
      "[37]\tvalidation-rmse:5.71832                                                  \n",
      "[38]\tvalidation-rmse:5.71772                                                  \n",
      "[39]\tvalidation-rmse:5.71714                                                  \n",
      "[40]\tvalidation-rmse:5.71685                                                  \n",
      "[41]\tvalidation-rmse:5.71658                                                  \n",
      "[42]\tvalidation-rmse:5.71650                                                  \n",
      "[43]\tvalidation-rmse:5.71598                                                  \n",
      "[44]\tvalidation-rmse:5.71565                                                  \n",
      "[45]\tvalidation-rmse:5.71585                                                  \n",
      "[46]\tvalidation-rmse:5.71592                                                  \n",
      "[47]\tvalidation-rmse:5.71563                                                  \n",
      "[48]\tvalidation-rmse:5.71524                                                  \n",
      "[49]\tvalidation-rmse:5.71549                                                  \n",
      "[50]\tvalidation-rmse:5.71502                                                  \n",
      "[51]\tvalidation-rmse:5.71497                                                  \n",
      "[52]\tvalidation-rmse:5.71489                                                  \n",
      "[53]\tvalidation-rmse:5.71476                                                  \n",
      "[54]\tvalidation-rmse:5.71495                                                  \n",
      "[55]\tvalidation-rmse:5.71489                                                  \n",
      "[56]\tvalidation-rmse:5.71490                                                  \n",
      "[57]\tvalidation-rmse:5.71524                                                  \n",
      "[58]\tvalidation-rmse:5.71521                                                  \n",
      "[59]\tvalidation-rmse:5.71576                                                  \n",
      "[60]\tvalidation-rmse:5.71593                                                  \n",
      "[61]\tvalidation-rmse:5.71612                                                  \n",
      "[62]\tvalidation-rmse:5.71622                                                  \n",
      "[63]\tvalidation-rmse:5.71641                                                  \n",
      " 67%|██████▋   | 2/3 [00:23<00:05,  5.90s/trial, best loss: 5.478988060188435]"
     ]
    },
    {
     "name": "stderr",
     "output_type": "stream",
     "text": [
      "/home/codespace/anaconda3/envs/exp-tracking-env/lib/python3.9/site-packages/sklearn/metrics/_regression.py:492: FutureWarning: 'squared' is deprecated in version 1.4 and will be removed in 1.6. To calculate the root mean squared error, use the function'root_mean_squared_error'.\n",
      "  warnings.warn(\n",
      "\n",
      "2024/10/15 07:47:45 INFO mlflow.tracking._tracking_service.client: 🏃 View run monumental-crow-759 at: http://127.0.0.1:5000/#/experiments/965139444109075764/runs/e7f3d6acfafe4b09bd966f233c60cbc3.\n",
      "\n",
      "2024/10/15 07:47:45 INFO mlflow.tracking._tracking_service.client: 🧪 View experiment at: http://127.0.0.1:5000/#/experiments/965139444109075764.\n",
      "\n"
     ]
    },
    {
     "name": "stdout",
     "output_type": "stream",
     "text": [
      "100%|██████████| 3/3 [00:25<00:00,  8.35s/trial, best loss: 5.478988060188435]\n"
     ]
    }
   ],
   "source": [
    "# Define the hyperparameter search space\n",
    "search_space = {\n",
    "    'max_depth': scope.int(hp.quniform('max_depth', 4, 100, 1)),\n",
    "    'learning_rate': hp.loguniform('learning_rate', -3, 0),\n",
    "    'reg_alpha': hp.loguniform('reg_alpha', -5, -1),\n",
    "    'reg_lambda': hp.loguniform('reg_lambda', -6, -1),\n",
    "    'min_child_weight': hp.loguniform('min_child_weight', -1, 3),\n",
    "    'objective': 'reg:linear',\n",
    "    'seed': 42\n",
    "}\n",
    "\n",
    "# Run the optimization\n",
    "best_result = fmin(\n",
    "    fn=objective,\n",
    "    space=search_space,\n",
    "    algo=tpe.suggest,\n",
    "    max_evals=3,\n",
    "    trials=Trials()\n",
    ")\n",
    "\n"
   ]
  },
  {
   "cell_type": "code",
   "execution_count": 22,
   "id": "5c82257a",
   "metadata": {},
   "outputs": [
    {
     "name": "stderr",
     "output_type": "stream",
     "text": [
      "2024/10/15 08:04:29 INFO mlflow.tracking._tracking_service.client: 🏃 View run persistent-crane-66 at: http://127.0.0.1:5000/#/experiments/965139444109075764/runs/317ff7f840e943dbb2d9bd12359c94df.\n",
      "2024/10/15 08:04:29 INFO mlflow.tracking._tracking_service.client: 🧪 View experiment at: http://127.0.0.1:5000/#/experiments/965139444109075764.\n"
     ]
    },
    {
     "name": "stdout",
     "output_type": "stream",
     "text": [
      "[0]\tvalidation-rmse:11.71455\n",
      "[1]\tvalidation-rmse:11.16001\n"
     ]
    },
    {
     "name": "stderr",
     "output_type": "stream",
     "text": [
      "/home/codespace/anaconda3/envs/exp-tracking-env/lib/python3.9/site-packages/xgboost/core.py:158: UserWarning: [08:04:29] WARNING: /workspace/src/objective/regression_obj.cu:227: reg:linear is now deprecated in favor of reg:squarederror.\n",
      "  warnings.warn(smsg, UserWarning)\n"
     ]
    },
    {
     "name": "stdout",
     "output_type": "stream",
     "text": [
      "[2]\tvalidation-rmse:10.65057\n",
      "[3]\tvalidation-rmse:10.18475\n",
      "[4]\tvalidation-rmse:9.75834\n",
      "[5]\tvalidation-rmse:9.36743\n",
      "[6]\tvalidation-rmse:9.01312\n",
      "[7]\tvalidation-rmse:8.68849\n",
      "[8]\tvalidation-rmse:8.39393\n",
      "[9]\tvalidation-rmse:8.12393\n",
      "[10]\tvalidation-rmse:7.88188\n",
      "[11]\tvalidation-rmse:7.66182\n",
      "[12]\tvalidation-rmse:7.46320\n",
      "[13]\tvalidation-rmse:7.28012\n",
      "[14]\tvalidation-rmse:7.11633\n",
      "[15]\tvalidation-rmse:6.96672\n",
      "[16]\tvalidation-rmse:6.83364\n",
      "[17]\tvalidation-rmse:6.71377\n",
      "[18]\tvalidation-rmse:6.60284\n",
      "[19]\tvalidation-rmse:6.50461\n",
      "[20]\tvalidation-rmse:6.41383\n",
      "[21]\tvalidation-rmse:6.33371\n",
      "[22]\tvalidation-rmse:6.26205\n",
      "[23]\tvalidation-rmse:6.19772\n",
      "[24]\tvalidation-rmse:6.13672\n",
      "[25]\tvalidation-rmse:6.08318\n",
      "[26]\tvalidation-rmse:6.03157\n",
      "[27]\tvalidation-rmse:5.98895\n",
      "[28]\tvalidation-rmse:5.95000\n",
      "[29]\tvalidation-rmse:5.91232\n",
      "[30]\tvalidation-rmse:5.87718\n",
      "[31]\tvalidation-rmse:5.84704\n",
      "[32]\tvalidation-rmse:5.81888\n",
      "[33]\tvalidation-rmse:5.79194\n",
      "[34]\tvalidation-rmse:5.76801\n",
      "[35]\tvalidation-rmse:5.74433\n",
      "[36]\tvalidation-rmse:5.72475\n",
      "[37]\tvalidation-rmse:5.70555\n",
      "[38]\tvalidation-rmse:5.68611\n",
      "[39]\tvalidation-rmse:5.66885\n",
      "[40]\tvalidation-rmse:5.65399\n",
      "[41]\tvalidation-rmse:5.64131\n",
      "[42]\tvalidation-rmse:5.62841\n",
      "[43]\tvalidation-rmse:5.61747\n",
      "[44]\tvalidation-rmse:5.60649\n",
      "[45]\tvalidation-rmse:5.59563\n",
      "[46]\tvalidation-rmse:5.58508\n",
      "[47]\tvalidation-rmse:5.57575\n",
      "[48]\tvalidation-rmse:5.56834\n",
      "[49]\tvalidation-rmse:5.55955\n",
      "[50]\tvalidation-rmse:5.55083\n",
      "[51]\tvalidation-rmse:5.54258\n",
      "[52]\tvalidation-rmse:5.53498\n",
      "[53]\tvalidation-rmse:5.52774\n",
      "[54]\tvalidation-rmse:5.52176\n",
      "[55]\tvalidation-rmse:5.51687\n",
      "[56]\tvalidation-rmse:5.51253\n",
      "[57]\tvalidation-rmse:5.50679\n",
      "[58]\tvalidation-rmse:5.50266\n",
      "[59]\tvalidation-rmse:5.49812\n",
      "[60]\tvalidation-rmse:5.49467\n",
      "[61]\tvalidation-rmse:5.49085\n",
      "[62]\tvalidation-rmse:5.48778\n",
      "[63]\tvalidation-rmse:5.48552\n",
      "[64]\tvalidation-rmse:5.48288\n",
      "[65]\tvalidation-rmse:5.47982\n",
      "[66]\tvalidation-rmse:5.47651\n",
      "[67]\tvalidation-rmse:5.47440\n",
      "[68]\tvalidation-rmse:5.47189\n",
      "[69]\tvalidation-rmse:5.46967\n",
      "[70]\tvalidation-rmse:5.46818\n",
      "[71]\tvalidation-rmse:5.46598\n",
      "[72]\tvalidation-rmse:5.46425\n",
      "[73]\tvalidation-rmse:5.46220\n",
      "[74]\tvalidation-rmse:5.45907\n",
      "[75]\tvalidation-rmse:5.45516\n",
      "[76]\tvalidation-rmse:5.45365\n",
      "[77]\tvalidation-rmse:5.45221\n",
      "[78]\tvalidation-rmse:5.44994\n",
      "[79]\tvalidation-rmse:5.44932\n",
      "[80]\tvalidation-rmse:5.44765\n",
      "[81]\tvalidation-rmse:5.44641\n",
      "[82]\tvalidation-rmse:5.44480\n",
      "[83]\tvalidation-rmse:5.44282\n",
      "[84]\tvalidation-rmse:5.44206\n",
      "[85]\tvalidation-rmse:5.44105\n",
      "[86]\tvalidation-rmse:5.43840\n",
      "[87]\tvalidation-rmse:5.43678\n",
      "[88]\tvalidation-rmse:5.43544\n",
      "[89]\tvalidation-rmse:5.43445\n",
      "[90]\tvalidation-rmse:5.43234\n",
      "[91]\tvalidation-rmse:5.43086\n",
      "[92]\tvalidation-rmse:5.43036\n",
      "[93]\tvalidation-rmse:5.42938\n",
      "[94]\tvalidation-rmse:5.42853\n",
      "[95]\tvalidation-rmse:5.42653\n",
      "[96]\tvalidation-rmse:5.42618\n",
      "[97]\tvalidation-rmse:5.42609\n",
      "[98]\tvalidation-rmse:5.42534\n",
      "[99]\tvalidation-rmse:5.42459\n"
     ]
    },
    {
     "name": "stderr",
     "output_type": "stream",
     "text": [
      "/home/codespace/anaconda3/envs/exp-tracking-env/lib/python3.9/site-packages/sklearn/metrics/_regression.py:492: FutureWarning: 'squared' is deprecated in version 1.4 and will be removed in 1.6. To calculate the root mean squared error, use the function'root_mean_squared_error'.\n",
      "  warnings.warn(\n",
      "/home/codespace/anaconda3/envs/exp-tracking-env/lib/python3.9/site-packages/xgboost/core.py:158: UserWarning: [08:04:36] WARNING: /workspace/src/c_api/c_api.cc:1374: Saving model in the UBJSON format as default.  You can use file extension: `json`, `ubj` or `deprecated` to choose between formats.\n",
      "  warnings.warn(smsg, UserWarning)\n",
      "2024/10/15 08:04:38 WARNING mlflow.models.model: Model logged without a signature and input example. Please set `input_example` parameter when logging the model to auto infer the model signature.\n",
      "2024/10/15 08:04:38 INFO mlflow.tracking._tracking_service.client: 🏃 View run best-of-all at: http://127.0.0.1:5000/#/experiments/965139444109075764/runs/49cde9daddef4338a3a23a12f1283a26.\n",
      "2024/10/15 08:04:38 INFO mlflow.tracking._tracking_service.client: 🧪 View experiment at: http://127.0.0.1:5000/#/experiments/965139444109075764.\n"
     ]
    }
   ],
   "source": [
    "# train with best parameter\n",
    "\n",
    "mlflow.xgboost.autolog(disable=True)\n",
    "mlflow.end_run()\n",
    "with mlflow.start_run(run_name=\"best-of-all\"):\n",
    "\n",
    "    \n",
    "    \n",
    "    best_params = {\n",
    "        \"min_child_weight\" : 15.768193366204851,\n",
    "        \"max_depth\": 32,\n",
    "        \"objective\": 'reg:linear',\n",
    "        \"reg_alpha\" : 0.04944253425989358,\n",
    "        \"seed\": 42,\n",
    "        \"reg_lambda\": 0.008692830225124612,\n",
    "        \"learning_rate\": 0.06790333875985635\n",
    "    }\n",
    "    \n",
    "    mlflow.log_params(best_params)\n",
    "\n",
    "    booster = xgb.train(\n",
    "                params=best_params,\n",
    "                dtrain=train,\n",
    "                num_boost_round=100,\n",
    "                evals=[(valid, 'validation')],\n",
    "                early_stopping_rounds=10\n",
    "            )\n",
    "    \n",
    "    y_pred = booster.predict(valid)\n",
    "    rmse = mean_squared_error(y_val, y_pred, squared=False)\n",
    "    mlflow.log_metric(\"rmse\", rmse)\n",
    "\n",
    "\n",
    "# save preprocessor in local repo( here it is dictionary vectorizer)\n",
    "\n",
    "    with open(\"/workspaces/MLOps-TaxiTrpDuration/models/preprocessor.b\", \"wb\") as f_out:\n",
    "        pickle.dump(dv, f_out)\n",
    "\n",
    "# save dictionary vectorizer as artifact to mlflow\n",
    "    mlflow.log_artifact(\"/workspaces/MLOps-TaxiTrpDuration/models/preprocessor.b\", artifact_path=\"preprocessor\")\n",
    "\n",
    "# save the xgboost model \n",
    "    mlflow.xgboost.log_model(booster, artifact_path=\"models_mlflow\")\n"
   ]
  },
  {
   "cell_type": "code",
   "execution_count": 10,
   "id": "b66279aa",
   "metadata": {},
   "outputs": [
    {
     "data": {
      "application/vnd.jupyter.widget-view+json": {
       "model_id": "88d2069d1c314deebc8e22a747e674cf",
       "version_major": 2,
       "version_minor": 0
      },
      "text/plain": [
       "Downloading artifacts:   0%|          | 0/5 [00:00<?, ?it/s]"
      ]
     },
     "metadata": {},
     "output_type": "display_data"
    }
   ],
   "source": [
    "#prediction\n",
    "\n",
    "#logged_model = 'runs:/1908366088af476ab4bd2dfc733e4311/models_mlflow'\n",
    "logged_model = 'runs:/c36592810dac4653bc0dfd44374a3712/models_mlflow'\n",
    "\n",
    "# Load model as a PyFuncModel.\n",
    "loaded_model = mlflow.pyfunc.load_model(logged_model)\n",
    "\n"
   ]
  },
  {
   "cell_type": "code",
   "execution_count": 5,
   "id": "635c3fde",
   "metadata": {},
   "outputs": [
    {
     "data": {
      "text/plain": [
       "mlflow.pyfunc.loaded_model:\n",
       "  artifact_path: models_mlflow\n",
       "  flavor: mlflow.xgboost\n",
       "  run_id: c36592810dac4653bc0dfd44374a3712"
      ]
     },
     "execution_count": 5,
     "metadata": {},
     "output_type": "execute_result"
    }
   ],
   "source": [
    "loaded_model"
   ]
  },
  {
   "cell_type": "code",
   "execution_count": 6,
   "id": "1eaa820a",
   "metadata": {},
   "outputs": [
    {
     "data": {
      "application/vnd.jupyter.widget-view+json": {
       "model_id": "18a6435968eb4ee181ffbfc4552b7948",
       "version_major": 2,
       "version_minor": 0
      },
      "text/plain": [
       "Downloading artifacts:   0%|          | 0/5 [00:00<?, ?it/s]"
      ]
     },
     "metadata": {},
     "output_type": "display_data"
    }
   ],
   "source": [
    "#load as xgboost_model\n",
    "xgboost_model = mlflow.xgboost.load_model(logged_model)"
   ]
  },
  {
   "cell_type": "code",
   "execution_count": 17,
   "id": "020eaf7e",
   "metadata": {},
   "outputs": [
    {
     "data": {
      "text/plain": [
       "array([20.39988  ,  6.1361213, 14.035301 , ..., 11.471176 ,  9.013139 ,\n",
       "        6.6934114], dtype=float32)"
      ]
     },
     "execution_count": 17,
     "metadata": {},
     "output_type": "execute_result"
    }
   ],
   "source": [
    "# testing the prediction\n",
    "y_pred1 = xgboost_model.predict(valid)\n",
    "y_pred1"
   ]
  },
  {
   "cell_type": "code",
   "execution_count": null,
   "id": "8c9a6199",
   "metadata": {},
   "outputs": [],
   "source": []
  }
 ],
 "metadata": {
  "kernelspec": {
   "display_name": "exp-tracking-env",
   "language": "python",
   "name": "python3"
  },
  "language_info": {
   "codemirror_mode": {
    "name": "ipython",
    "version": 3
   },
   "file_extension": ".py",
   "mimetype": "text/x-python",
   "name": "python",
   "nbconvert_exporter": "python",
   "pygments_lexer": "ipython3",
   "version": "3.9.19"
  }
 },
 "nbformat": 4,
 "nbformat_minor": 5
}
