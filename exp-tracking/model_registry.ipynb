{
 "cells": [
  {
   "cell_type": "code",
   "execution_count": 1,
   "metadata": {},
   "outputs": [],
   "source": [
    "import mlflow\n",
    "from mlflow.tracking import MlflowClient"
   ]
  },
  {
   "cell_type": "code",
   "execution_count": 2,
   "metadata": {},
   "outputs": [],
   "source": [
    "mlflow_tracking_uri = \"http://127.0.0.1:5000\"\n",
    "client = MlflowClient(tracking_uri=mlflow_tracking_uri)"
   ]
  },
  {
   "cell_type": "code",
   "execution_count": 3,
   "metadata": {},
   "outputs": [
    {
     "name": "stdout",
     "output_type": "stream",
     "text": [
      "Experiment Name: NYCtaxi-ride-duration, Experiment ID: 965139444109075764\n",
      "Experiment Name: Default, Experiment ID: 0\n"
     ]
    }
   ],
   "source": [
    "experiments = client.search_experiments()\n",
    "\n",
    "for experiment in experiments:\n",
    "    print(f\"Experiment Name: {experiment.name}, Experiment ID: {experiment.experiment_id}\")"
   ]
  },
  {
   "cell_type": "code",
   "execution_count": 10,
   "metadata": {},
   "outputs": [
    {
     "data": {
      "text/plain": [
       "'360877523386452222'"
      ]
     },
     "execution_count": 10,
     "metadata": {},
     "output_type": "execute_result"
    }
   ],
   "source": [
    "# create new experiment\n",
    "client.create_experiment(name=\"my-testing-experiment\")"
   ]
  },
  {
   "cell_type": "code",
   "execution_count": 12,
   "metadata": {},
   "outputs": [],
   "source": [
    "# delete experiment\n",
    "client.delete_experiment(\"360877523386452222\")"
   ]
  },
  {
   "cell_type": "code",
   "execution_count": 4,
   "metadata": {},
   "outputs": [],
   "source": [
    "#Let's check the latest versions for the experiment with id #965139444109075764#\n",
    "from mlflow.entities import ViewType\n",
    "\n",
    "runs = client.search_runs(experiment_ids=\"965139444109075764\",\n",
    "                          filter_string=\"metrics.rmse < 7\",\n",
    "                          run_view_type=ViewType.ACTIVE_ONLY,\n",
    "                          order_by=[\"metrics.rmse ASC\"])\n"
   ]
  },
  {
   "cell_type": "code",
   "execution_count": 5,
   "metadata": {},
   "outputs": [
    {
     "data": {
      "text/plain": [
       "[<Run: data=<RunData: metrics={'rmse': 5.4245868973708395}, params={'learning_rate': '0.06790333875985635',\n",
       "  'max_depth': '32',\n",
       "  'min_child_weight': '15.768193366204851',\n",
       "  'objective': 'reg:linear',\n",
       "  'reg_alpha': '0.04944253425989358',\n",
       "  'reg_lambda': '0.008692830225124612',\n",
       "  'seed': '42'}, tags={'mlflow.log-model.history': '[{\"run_id\": \"49cde9daddef4338a3a23a12f1283a26\", '\n",
       "                              '\"artifact_path\": \"models_mlflow\", '\n",
       "                              '\"utc_time_created\": \"2024-10-15 '\n",
       "                              '08:04:36.393294\", \"model_uuid\": '\n",
       "                              '\"24b6ec0dd81441dda431db1eb66fa288\", \"flavors\": '\n",
       "                              '{\"python_function\": {\"loader_module\": '\n",
       "                              '\"mlflow.xgboost\", \"python_version\": \"3.9.19\", '\n",
       "                              '\"data\": \"model.xgb\", \"env\": {\"conda\": '\n",
       "                              '\"conda.yaml\", \"virtualenv\": \"python_env.yaml\"}}, '\n",
       "                              '\"xgboost\": {\"xgb_version\": \"2.1.1\", \"data\": '\n",
       "                              '\"model.xgb\", \"model_class\": '\n",
       "                              '\"xgboost.core.Booster\", \"model_format\": \"xgb\", '\n",
       "                              '\"code\": null}}}]',\n",
       "  'mlflow.runName': 'best-of-all',\n",
       "  'mlflow.source.name': '/home/codespace/anaconda3/envs/exp-tracking-env/lib/python3.9/site-packages/ipykernel_launcher.py',\n",
       "  'mlflow.source.type': 'LOCAL',\n",
       "  'mlflow.user': 'codespace'}>, info=<RunInfo: artifact_uri='mlflow-artifacts:/965139444109075764/49cde9daddef4338a3a23a12f1283a26/artifacts', end_time=1728979478208, experiment_id='965139444109075764', lifecycle_stage='active', run_id='49cde9daddef4338a3a23a12f1283a26', run_name='best-of-all', run_uuid='49cde9daddef4338a3a23a12f1283a26', start_time=1728979469464, status='FINISHED', user_id='codespace'>, inputs=<RunInputs: dataset_inputs=[]>>,\n",
       " <Run: data=<RunData: metrics={'rmse': 5.4245868973708395}, params={'learning_rate': '0.06790333875985635',\n",
       "  'max_depth': '32',\n",
       "  'min_child_weight': '15.768193366204851',\n",
       "  'objective': 'reg:linear',\n",
       "  'reg_alpha': '0.04944253425989358',\n",
       "  'reg_lambda': '0.008692830225124612',\n",
       "  'seed': '42'}, tags={'mlflow.runName': 'best-of-all',\n",
       "  'mlflow.source.name': '/home/codespace/anaconda3/envs/exp-tracking-env/lib/python3.9/site-packages/ipykernel_launcher.py',\n",
       "  'mlflow.source.type': 'LOCAL',\n",
       "  'mlflow.user': 'codespace'}>, info=<RunInfo: artifact_uri='mlflow-artifacts:/965139444109075764/bc58dab6c822455393c2022b25e06bf0/artifacts', end_time=1728978472636, experiment_id='965139444109075764', lifecycle_stage='active', run_id='bc58dab6c822455393c2022b25e06bf0', run_name='best-of-all', run_uuid='bc58dab6c822455393c2022b25e06bf0', start_time=1728978465864, status='FINISHED', user_id='codespace'>, inputs=<RunInputs: dataset_inputs=[]>>,\n",
       " <Run: data=<RunData: metrics={'rmse': 5.4245868973708395}, params={'learning_rate': '0.06790333875985635',\n",
       "  'max_depth': '32',\n",
       "  'min_child_weight': '15.768193366204851',\n",
       "  'objective': 'reg:linear',\n",
       "  'reg_alpha': '0.04944253425989358',\n",
       "  'reg_lambda': '0.008692830225124612',\n",
       "  'seed': '42'}, tags={'mlflow.runName': 'best-of-all',\n",
       "  'mlflow.source.name': '/home/codespace/anaconda3/envs/exp-tracking-env/lib/python3.9/site-packages/ipykernel_launcher.py',\n",
       "  'mlflow.source.type': 'LOCAL',\n",
       "  'mlflow.user': 'codespace'}>, info=<RunInfo: artifact_uri='mlflow-artifacts:/965139444109075764/1cd408e6dfac46c9bad50fe76fc1c61a/artifacts', end_time=1728907834055, experiment_id='965139444109075764', lifecycle_stage='active', run_id='1cd408e6dfac46c9bad50fe76fc1c61a', run_name='best-of-all', run_uuid='1cd408e6dfac46c9bad50fe76fc1c61a', start_time=1728907826997, status='FINISHED', user_id='codespace'>, inputs=<RunInputs: dataset_inputs=[]>>,\n",
       " <Run: data=<RunData: metrics={'rmse': 5.4245868973708395}, params={'learning_rate': '0.06790333875985635',\n",
       "  'max_depth': '32',\n",
       "  'min_child_weight': '15.768193366204851',\n",
       "  'objective': 'reg:linear',\n",
       "  'reg_alpha': '0.04944253425989358',\n",
       "  'reg_lambda': '0.008692830225124612',\n",
       "  'seed': '42'}, tags={'mlflow.runName': 'casual-ant-885',\n",
       "  'mlflow.source.name': '/home/codespace/anaconda3/envs/exp-tracking-env/lib/python3.9/site-packages/ipykernel_launcher.py',\n",
       "  'mlflow.source.type': 'LOCAL',\n",
       "  'mlflow.user': 'codespace',\n",
       "  'model': 'xgboost'}>, info=<RunInfo: artifact_uri='mlflow-artifacts:/965139444109075764/005fa873eb7c47b18eeab2b86ef36888/artifacts', end_time=1728907566732, experiment_id='965139444109075764', lifecycle_stage='active', run_id='005fa873eb7c47b18eeab2b86ef36888', run_name='casual-ant-885', run_uuid='005fa873eb7c47b18eeab2b86ef36888', start_time=1728907559600, status='FINISHED', user_id='codespace'>, inputs=<RunInputs: dataset_inputs=[]>>,\n",
       " <Run: data=<RunData: metrics={'rmse': 5.431575939993019}, params={'learning_rate': '0.061146681676085356',\n",
       "  'max_depth': '14',\n",
       "  'min_child_weight': '11.585009978489776',\n",
       "  'objective': 'reg:linear',\n",
       "  'reg_alpha': '0.006983454548757054',\n",
       "  'reg_lambda': '0.0033260759398446174',\n",
       "  'seed': '42'}, tags={'mlflow.runName': 'sneaky-eel-456',\n",
       "  'mlflow.source.name': '/home/codespace/anaconda3/envs/exp-tracking-env/lib/python3.9/site-packages/ipykernel_launcher.py',\n",
       "  'mlflow.source.type': 'LOCAL',\n",
       "  'mlflow.user': 'codespace',\n",
       "  'model': 'xgboost'}>, info=<RunInfo: artifact_uri='mlflow-artifacts:/965139444109075764/cbb9834c7a2b43cab1cc5f3fdaa977d0/artifacts', end_time=1728907559584, experiment_id='965139444109075764', lifecycle_stage='active', run_id='cbb9834c7a2b43cab1cc5f3fdaa977d0', run_name='sneaky-eel-456', run_uuid='cbb9834c7a2b43cab1cc5f3fdaa977d0', start_time=1728907554909, status='FINISHED', user_id='codespace'>, inputs=<RunInputs: dataset_inputs=[]>>,\n",
       " <Run: data=<RunData: metrics={'rmse': 5.478988060188435}, params={'learning_rate': '0.05590772383709594',\n",
       "  'max_depth': '57',\n",
       "  'min_child_weight': '12.204720930458514',\n",
       "  'objective': 'reg:linear',\n",
       "  'reg_alpha': '0.038095439795458125',\n",
       "  'reg_lambda': '0.30722321057293667',\n",
       "  'seed': '42'}, tags={'mlflow.runName': 'puzzled-panda-334',\n",
       "  'mlflow.source.name': '/home/codespace/anaconda3/envs/exp-tracking-env/lib/python3.9/site-packages/ipykernel_launcher.py',\n",
       "  'mlflow.source.type': 'LOCAL',\n",
       "  'mlflow.user': 'codespace',\n",
       "  'model': 'xgboost'}>, info=<RunInfo: artifact_uri='mlflow-artifacts:/965139444109075764/fa159a660f754c698b55983289c4455f/artifacts', end_time=1728978450088, experiment_id='965139444109075764', lifecycle_stage='active', run_id='fa159a660f754c698b55983289c4455f', run_name='puzzled-panda-334', run_uuid='fa159a660f754c698b55983289c4455f', start_time=1728978440792, status='FINISHED', user_id='codespace'>, inputs=<RunInputs: dataset_inputs=[]>>,\n",
       " <Run: data=<RunData: metrics={'rmse': 5.481649905429212}, params={'learning_rate': '0.12281870746450622',\n",
       "  'max_depth': '74',\n",
       "  'min_child_weight': '14.045559293524121',\n",
       "  'objective': 'reg:linear',\n",
       "  'reg_alpha': '0.07186037831483409',\n",
       "  'reg_lambda': '0.18257403035926795',\n",
       "  'seed': '42'}, tags={'mlflow.runName': 'best-of-all',\n",
       "  'mlflow.source.name': '/home/codespace/anaconda3/envs/exp-tracking-env/lib/python3.9/site-packages/ipykernel_launcher.py',\n",
       "  'mlflow.source.type': 'LOCAL',\n",
       "  'mlflow.user': 'codespace'}>, info=<RunInfo: artifact_uri='mlflow-artifacts:/965139444109075764/8fb88d49e8884fe194c8e9d54bfecbd1/artifacts', end_time=1728905027920, experiment_id='965139444109075764', lifecycle_stage='active', run_id='8fb88d49e8884fe194c8e9d54bfecbd1', run_name='best-of-all', run_uuid='8fb88d49e8884fe194c8e9d54bfecbd1', start_time=1728905021282, status='FINISHED', user_id='codespace'>, inputs=<RunInputs: dataset_inputs=[]>>,\n",
       " <Run: data=<RunData: metrics={'rmse': 5.481649905429212}, params={'learning_rate': '0.12281870746450622',\n",
       "  'max_depth': '74',\n",
       "  'min_child_weight': '14.045559293524121',\n",
       "  'objective': 'reg:linear',\n",
       "  'reg_alpha': '0.07186037831483409',\n",
       "  'reg_lambda': '0.18257403035926795',\n",
       "  'seed': '42'}, tags={'mlflow.runName': 'best-of-all',\n",
       "  'mlflow.source.name': '/home/codespace/anaconda3/envs/exp-tracking-env/lib/python3.9/site-packages/ipykernel_launcher.py',\n",
       "  'mlflow.source.type': 'LOCAL',\n",
       "  'mlflow.user': 'codespace'}>, info=<RunInfo: artifact_uri='mlflow-artifacts:/965139444109075764/c9fd91ea97684e19a09f6a84bc86e003/artifacts', end_time=1728891301356, experiment_id='965139444109075764', lifecycle_stage='active', run_id='c9fd91ea97684e19a09f6a84bc86e003', run_name='best-of-all', run_uuid='c9fd91ea97684e19a09f6a84bc86e003', start_time=1728891295235, status='FINISHED', user_id='codespace'>, inputs=<RunInputs: dataset_inputs=[]>>,\n",
       " <Run: data=<RunData: metrics={'rmse': 5.481649905429212}, params={'learning_rate': '0.12281870746450622',\n",
       "  'max_depth': '74',\n",
       "  'min_child_weight': '14.045559293524121',\n",
       "  'objective': 'reg:linear',\n",
       "  'reg_alpha': '0.07186037831483409',\n",
       "  'reg_lambda': '0.18257403035926795',\n",
       "  'seed': '42'}, tags={'mlflow.runName': 'best-of-all',\n",
       "  'mlflow.source.name': '/home/codespace/anaconda3/envs/exp-tracking-env/lib/python3.9/site-packages/ipykernel_launcher.py',\n",
       "  'mlflow.source.type': 'LOCAL',\n",
       "  'mlflow.user': 'codespace'}>, info=<RunInfo: artifact_uri='mlflow-artifacts:/965139444109075764/0bb25225df9e4e24ab1a8d71d0f7e50c/artifacts', end_time=1728642364046, experiment_id='965139444109075764', lifecycle_stage='active', run_id='0bb25225df9e4e24ab1a8d71d0f7e50c', run_name='best-of-all', run_uuid='0bb25225df9e4e24ab1a8d71d0f7e50c', start_time=1728642357941, status='FINISHED', user_id='codespace'>, inputs=<RunInputs: dataset_inputs=[]>>,\n",
       " <Run: data=<RunData: metrics={'rmse': 5.481649905429212}, params={'learning_rate': '0.12281870746450622',\n",
       "  'max_depth': '74',\n",
       "  'min_child_weight': '14.045559293524121',\n",
       "  'objective': 'reg:linear',\n",
       "  'reg_alpha': '0.07186037831483409',\n",
       "  'reg_lambda': '0.18257403035926795',\n",
       "  'seed': '42'}, tags={'mlflow.runName': 'rambunctious-hog-450',\n",
       "  'mlflow.source.name': '/home/codespace/anaconda3/envs/exp-tracking-env/lib/python3.9/site-packages/ipykernel_launcher.py',\n",
       "  'mlflow.source.type': 'LOCAL',\n",
       "  'mlflow.user': 'codespace'}>, info=<RunInfo: artifact_uri='mlflow-artifacts:/965139444109075764/db5c0797f364450181db4687d246ff08/artifacts', end_time=1728641503754, experiment_id='965139444109075764', lifecycle_stage='active', run_id='db5c0797f364450181db4687d246ff08', run_name='rambunctious-hog-450', run_uuid='db5c0797f364450181db4687d246ff08', start_time=1728641497727, status='FINISHED', user_id='codespace'>, inputs=<RunInputs: dataset_inputs=[]>>,\n",
       " <Run: data=<RunData: metrics={'rmse': 5.512890709584767}, params={'learning_rate': '0.05599900326182773',\n",
       "  'max_depth': '10',\n",
       "  'min_child_weight': '1.3368054351070484',\n",
       "  'objective': 'reg:linear',\n",
       "  'reg_alpha': '0.014197293308328694',\n",
       "  'reg_lambda': '0.031895198901275124',\n",
       "  'seed': '42'}, tags={'mlflow.runName': 'gaudy-goat-180',\n",
       "  'mlflow.source.name': '/home/codespace/anaconda3/envs/exp-tracking-env/lib/python3.9/site-packages/ipykernel_launcher.py',\n",
       "  'mlflow.source.type': 'LOCAL',\n",
       "  'mlflow.user': 'codespace',\n",
       "  'model': 'xgboost'}>, info=<RunInfo: artifact_uri='mlflow-artifacts:/965139444109075764/5eebd82068ec454ea07287c7c9c331f2/artifacts', end_time=1728641435475, experiment_id='965139444109075764', lifecycle_stage='active', run_id='5eebd82068ec454ea07287c7c9c331f2', run_name='gaudy-goat-180', run_uuid='5eebd82068ec454ea07287c7c9c331f2', start_time=1728641432199, status='FINISHED', user_id='codespace'>, inputs=<RunInputs: dataset_inputs=[]>>,\n",
       " <Run: data=<RunData: metrics={'rmse': 5.527730731404238}, params={'learning_rate': '0.20652285681233223',\n",
       "  'max_depth': '25',\n",
       "  'min_child_weight': '11.496057178763161',\n",
       "  'objective': 'reg:linear',\n",
       "  'reg_alpha': '0.07267869791687603',\n",
       "  'reg_lambda': '0.03951760275818482',\n",
       "  'seed': '42'}, tags={'mlflow.runName': 'secretive-bee-727',\n",
       "  'mlflow.source.name': '/home/codespace/anaconda3/envs/exp-tracking-env/lib/python3.9/site-packages/ipykernel_launcher.py',\n",
       "  'mlflow.source.type': 'LOCAL',\n",
       "  'mlflow.user': 'codespace',\n",
       "  'model': 'xgboost'}>, info=<RunInfo: artifact_uri='mlflow-artifacts:/965139444109075764/72a845b007a54302aa9038f6c01161e1/artifacts', end_time=1728891284435, experiment_id='965139444109075764', lifecycle_stage='active', run_id='72a845b007a54302aa9038f6c01161e1', run_name='secretive-bee-727', run_uuid='72a845b007a54302aa9038f6c01161e1', start_time=1728891280328, status='FINISHED', user_id='codespace'>, inputs=<RunInputs: dataset_inputs=[]>>,\n",
       " <Run: data=<RunData: metrics={'rmse': 5.559806237977614}, params={'learning_rate': '0.26881226220277116',\n",
       "  'max_depth': '19',\n",
       "  'min_child_weight': '11.703916582788016',\n",
       "  'objective': 'reg:linear',\n",
       "  'reg_alpha': '0.1491383753098317',\n",
       "  'reg_lambda': '0.013510314463313912',\n",
       "  'seed': '42'}, tags={'mlflow.runName': 'clean-hawk-375',\n",
       "  'mlflow.source.name': '/home/codespace/anaconda3/envs/exp-tracking-env/lib/python3.9/site-packages/ipykernel_launcher.py',\n",
       "  'mlflow.source.type': 'LOCAL',\n",
       "  'mlflow.user': 'codespace',\n",
       "  'model': 'xgboost'}>, info=<RunInfo: artifact_uri='mlflow-artifacts:/965139444109075764/7d1d3e07ec7746e1bd70afa94dc45e87/artifacts', end_time=1728891269605, experiment_id='965139444109075764', lifecycle_stage='active', run_id='7d1d3e07ec7746e1bd70afa94dc45e87', run_name='clean-hawk-375', run_uuid='7d1d3e07ec7746e1bd70afa94dc45e87', start_time=1728891266487, status='FINISHED', user_id='codespace'>, inputs=<RunInputs: dataset_inputs=[]>>,\n",
       " <Run: data=<RunData: metrics={'rmse': 5.666180335139043}, params={'learning_rate': '0.1220615334846259',\n",
       "  'max_depth': '83',\n",
       "  'min_child_weight': '5.5905118451674385',\n",
       "  'objective': 'reg:linear',\n",
       "  'reg_alpha': '0.07978753611182061',\n",
       "  'reg_lambda': '0.040656261690843847',\n",
       "  'seed': '42'}, tags={'mlflow.runName': 'incongruous-fowl-168',\n",
       "  'mlflow.source.name': '/home/codespace/anaconda3/envs/exp-tracking-env/lib/python3.9/site-packages/ipykernel_launcher.py',\n",
       "  'mlflow.source.type': 'LOCAL',\n",
       "  'mlflow.user': 'codespace',\n",
       "  'model': 'xgboost'}>, info=<RunInfo: artifact_uri='mlflow-artifacts:/965139444109075764/2b9f49fe7a8940159af00891e71bb767/artifacts', end_time=1728904959491, experiment_id='965139444109075764', lifecycle_stage='active', run_id='2b9f49fe7a8940159af00891e71bb767', run_name='incongruous-fowl-168', run_uuid='2b9f49fe7a8940159af00891e71bb767', start_time=1728904948426, status='FINISHED', user_id='codespace'>, inputs=<RunInputs: dataset_inputs=[]>>,\n",
       " <Run: data=<RunData: metrics={'rmse': 5.716405801654335}, params={'learning_rate': '0.13013706797545857',\n",
       "  'max_depth': '65',\n",
       "  'min_child_weight': '4.371292856600001',\n",
       "  'objective': 'reg:linear',\n",
       "  'reg_alpha': '0.039476694896024185',\n",
       "  'reg_lambda': '0.009489215687694372',\n",
       "  'seed': '42'}, tags={'mlflow.runName': 'monumental-crow-759',\n",
       "  'mlflow.source.name': '/home/codespace/anaconda3/envs/exp-tracking-env/lib/python3.9/site-packages/ipykernel_launcher.py',\n",
       "  'mlflow.source.type': 'LOCAL',\n",
       "  'mlflow.user': 'codespace',\n",
       "  'model': 'xgboost'}>, info=<RunInfo: artifact_uri='mlflow-artifacts:/965139444109075764/e7f3d6acfafe4b09bd966f233c60cbc3/artifacts', end_time=1728978465835, experiment_id='965139444109075764', lifecycle_stage='active', run_id='e7f3d6acfafe4b09bd966f233c60cbc3', run_name='monumental-crow-759', run_uuid='e7f3d6acfafe4b09bd966f233c60cbc3', start_time=1728978453613, status='FINISHED', user_id='codespace'>, inputs=<RunInputs: dataset_inputs=[]>>,\n",
       " <Run: data=<RunData: metrics={'rmse': 5.794603649437827}, params={'learning_rate': '0.16191322821301418',\n",
       "  'max_depth': '40',\n",
       "  'min_child_weight': '3.495327083514532',\n",
       "  'objective': 'reg:linear',\n",
       "  'reg_alpha': '0.048842317588985024',\n",
       "  'reg_lambda': '0.05340728693360474',\n",
       "  'seed': '42'}, tags={'mlflow.runName': 'thundering-crow-647',\n",
       "  'mlflow.source.name': '/home/codespace/anaconda3/envs/exp-tracking-env/lib/python3.9/site-packages/ipykernel_launcher.py',\n",
       "  'mlflow.source.type': 'LOCAL',\n",
       "  'mlflow.user': 'codespace',\n",
       "  'model': 'xgboost'}>, info=<RunInfo: artifact_uri='mlflow-artifacts:/965139444109075764/86a743eacbda48f1850e6e6143834c99/artifacts', end_time=1728641448212, experiment_id='965139444109075764', lifecycle_stage='active', run_id='86a743eacbda48f1850e6e6143834c99', run_name='thundering-crow-647', run_uuid='86a743eacbda48f1850e6e6143834c99', start_time=1728641435490, status='FINISHED', user_id='codespace'>, inputs=<RunInputs: dataset_inputs=[]>>,\n",
       " <Run: data=<RunData: metrics={'rmse': 5.879489510813912}, params={'learning_rate': '0.10247845872529436',\n",
       "  'max_depth': '95',\n",
       "  'min_child_weight': '2.6108037942429227',\n",
       "  'objective': 'reg:linear',\n",
       "  'reg_alpha': '0.05077111433660041',\n",
       "  'reg_lambda': '0.00645133884450743',\n",
       "  'seed': '42'}, tags={'mlflow.runName': 'fearless-lark-111',\n",
       "  'mlflow.source.name': '/home/codespace/anaconda3/envs/exp-tracking-env/lib/python3.9/site-packages/ipykernel_launcher.py',\n",
       "  'mlflow.source.type': 'LOCAL',\n",
       "  'mlflow.user': 'codespace',\n",
       "  'model': 'xgboost'}>, info=<RunInfo: artifact_uri='mlflow-artifacts:/965139444109075764/7f3abf7d2bb749d2bbf3f0e27030cb38/artifacts', end_time=1728904982896, experiment_id='965139444109075764', lifecycle_stage='active', run_id='7f3abf7d2bb749d2bbf3f0e27030cb38', run_name='fearless-lark-111', run_uuid='7f3abf7d2bb749d2bbf3f0e27030cb38', start_time=1728904959507, status='FINISHED', user_id='codespace'>, inputs=<RunInputs: dataset_inputs=[]>>,\n",
       " <Run: data=<RunData: metrics={'rmse': 6.1947286888535835}, params={'learning_rate': '0.5928463955305776',\n",
       "  'max_depth': '72',\n",
       "  'min_child_weight': '4.186256690883683',\n",
       "  'objective': 'reg:linear',\n",
       "  'reg_alpha': '0.04227574475893333',\n",
       "  'reg_lambda': '0.004312574537935328',\n",
       "  'seed': '42'}, tags={'mlflow.runName': 'mercurial-robin-898',\n",
       "  'mlflow.source.name': '/home/codespace/anaconda3/envs/exp-tracking-env/lib/python3.9/site-packages/ipykernel_launcher.py',\n",
       "  'mlflow.source.type': 'LOCAL',\n",
       "  'mlflow.user': 'codespace',\n",
       "  'model': 'xgboost'}>, info=<RunInfo: artifact_uri='mlflow-artifacts:/965139444109075764/fed521c51da04f90a5394d5c461b87e4/artifacts', end_time=1728907554889, experiment_id='965139444109075764', lifecycle_stage='active', run_id='fed521c51da04f90a5394d5c461b87e4', run_name='mercurial-robin-898', run_uuid='fed521c51da04f90a5394d5c461b87e4', start_time=1728907551400, status='FINISHED', user_id='codespace'>, inputs=<RunInputs: dataset_inputs=[]>>,\n",
       " <Run: data=<RunData: metrics={'rmse': 6.2159832592130995}, params={'learning_rate': '0.45420614902471274',\n",
       "  'max_depth': '47',\n",
       "  'min_child_weight': '1.533570909719154',\n",
       "  'objective': 'reg:linear',\n",
       "  'reg_alpha': '0.013386281237825036',\n",
       "  'reg_lambda': '0.05813562204546722',\n",
       "  'seed': '42'}, tags={'mlflow.runName': 'merciful-cod-156',\n",
       "  'mlflow.source.name': '/home/codespace/anaconda3/envs/exp-tracking-env/lib/python3.9/site-packages/ipykernel_launcher.py',\n",
       "  'mlflow.source.type': 'LOCAL',\n",
       "  'mlflow.user': 'codespace',\n",
       "  'model': 'xgboost'}>, info=<RunInfo: artifact_uri='mlflow-artifacts:/965139444109075764/05e2283ad4154df9b14e7f42b47e8898/artifacts', end_time=1728891280313, experiment_id='965139444109075764', lifecycle_stage='active', run_id='05e2283ad4154df9b14e7f42b47e8898', run_name='merciful-cod-156', run_uuid='05e2283ad4154df9b14e7f42b47e8898', start_time=1728891269621, status='FINISHED', user_id='codespace'>, inputs=<RunInputs: dataset_inputs=[]>>,\n",
       " <Run: data=<RunData: metrics={'rmse': 6.894166853878902}, params={'learning_rate': '0.08929095772967405',\n",
       "  'max_depth': '99',\n",
       "  'min_child_weight': '0.5189345371068849',\n",
       "  'objective': 'reg:linear',\n",
       "  'reg_alpha': '0.05130595852984891',\n",
       "  'reg_lambda': '0.0038089920489986872',\n",
       "  'seed': '42'}, tags={'mlflow.runName': 'mysterious-horse-957',\n",
       "  'mlflow.source.name': '/home/codespace/anaconda3/envs/exp-tracking-env/lib/python3.9/site-packages/ipykernel_launcher.py',\n",
       "  'mlflow.source.type': 'LOCAL',\n",
       "  'mlflow.user': 'codespace',\n",
       "  'model': 'xgboost'}>, info=<RunInfo: artifact_uri='mlflow-artifacts:/965139444109075764/776b39dfc5874c09b29de61bf629ebd9/artifacts', end_time=1728641432173, experiment_id='965139444109075764', lifecycle_stage='active', run_id='776b39dfc5874c09b29de61bf629ebd9', run_name='mysterious-horse-957', run_uuid='776b39dfc5874c09b29de61bf629ebd9', start_time=1728641390379, status='FINISHED', user_id='codespace'>, inputs=<RunInputs: dataset_inputs=[]>>]"
      ]
     },
     "execution_count": 5,
     "metadata": {},
     "output_type": "execute_result"
    }
   ],
   "source": [
    "runs"
   ]
  },
  {
   "cell_type": "code",
   "execution_count": 6,
   "metadata": {},
   "outputs": [
    {
     "name": "stdout",
     "output_type": "stream",
     "text": [
      "run id: 49cde9daddef4338a3a23a12f1283a26, rmse: 5.4246\n",
      "run id: bc58dab6c822455393c2022b25e06bf0, rmse: 5.4246\n",
      "run id: 1cd408e6dfac46c9bad50fe76fc1c61a, rmse: 5.4246\n",
      "run id: 005fa873eb7c47b18eeab2b86ef36888, rmse: 5.4246\n",
      "run id: cbb9834c7a2b43cab1cc5f3fdaa977d0, rmse: 5.4316\n",
      "run id: fa159a660f754c698b55983289c4455f, rmse: 5.4790\n",
      "run id: 8fb88d49e8884fe194c8e9d54bfecbd1, rmse: 5.4816\n",
      "run id: c9fd91ea97684e19a09f6a84bc86e003, rmse: 5.4816\n",
      "run id: 0bb25225df9e4e24ab1a8d71d0f7e50c, rmse: 5.4816\n",
      "run id: db5c0797f364450181db4687d246ff08, rmse: 5.4816\n",
      "run id: 5eebd82068ec454ea07287c7c9c331f2, rmse: 5.5129\n",
      "run id: 72a845b007a54302aa9038f6c01161e1, rmse: 5.5277\n",
      "run id: 7d1d3e07ec7746e1bd70afa94dc45e87, rmse: 5.5598\n",
      "run id: 2b9f49fe7a8940159af00891e71bb767, rmse: 5.6662\n",
      "run id: e7f3d6acfafe4b09bd966f233c60cbc3, rmse: 5.7164\n",
      "run id: 86a743eacbda48f1850e6e6143834c99, rmse: 5.7946\n",
      "run id: 7f3abf7d2bb749d2bbf3f0e27030cb38, rmse: 5.8795\n",
      "run id: fed521c51da04f90a5394d5c461b87e4, rmse: 6.1947\n",
      "run id: 05e2283ad4154df9b14e7f42b47e8898, rmse: 6.2160\n",
      "run id: 776b39dfc5874c09b29de61bf629ebd9, rmse: 6.8942\n"
     ]
    }
   ],
   "source": [
    "for run in runs:\n",
    "    print(f\"run id: {run.info.run_id}, rmse: {run.data.metrics['rmse']:.4f}\")"
   ]
  },
  {
   "cell_type": "code",
   "execution_count": 7,
   "metadata": {},
   "outputs": [
    {
     "name": "stderr",
     "output_type": "stream",
     "text": [
      "Registered model 'NYC-TRIP-DURATION' already exists. Creating a new version of this model...\n",
      "2024/10/28 17:14:28 INFO mlflow.store.model_registry.abstract_store: Waiting up to 300 seconds for model version to finish creation. Model name: NYC-TRIP-DURATION, version 2\n",
      "Created version '2' of model 'NYC-TRIP-DURATION'.\n"
     ]
    },
    {
     "data": {
      "text/plain": [
       "<ModelVersion: aliases=[], creation_timestamp=1730135668490, current_stage='None', description='', last_updated_timestamp=1730135668490, name='NYC-TRIP-DURATION', run_id='49cde9daddef4338a3a23a12f1283a26', run_link='', source='mlflow-artifacts:/965139444109075764/49cde9daddef4338a3a23a12f1283a26/artifacts/model', status='READY', status_message='', tags={}, user_id='', version='2'>"
      ]
     },
     "execution_count": 7,
     "metadata": {},
     "output_type": "execute_result"
    }
   ],
   "source": [
    "## register a MODEL to mlflow model registry \n",
    "\n",
    "mlflow.set_tracking_uri(mlflow_tracking_uri)\n",
    "run_id= \"49cde9daddef4338a3a23a12f1283a26\"\n",
    "model_name = \"NYC-TRIP-DURATION\"\n",
    "model_uri = f\"runs:/{run_id}/model\"\n",
    "mlflow.register_model(model_uri=model_uri,name=\"NYC-TRIP-DURATION\")\n",
    "\n"
   ]
  },
  {
   "cell_type": "code",
   "execution_count": 14,
   "metadata": {},
   "outputs": [
    {
     "name": "stdout",
     "output_type": "stream",
     "text": [
      "[<RegisteredModel: aliases={}, creation_timestamp=1730111544103, description='', last_updated_timestamp=1730135857080, latest_versions=[<ModelVersion: aliases=[], creation_timestamp=1730135668490, current_stage='None', description='new york taxi trip duration - xgboost 2', last_updated_timestamp=1730135800278, name='NYC-TRIP-DURATION', run_id='49cde9daddef4338a3a23a12f1283a26', run_link='', source='mlflow-artifacts:/965139444109075764/49cde9daddef4338a3a23a12f1283a26/artifacts/model', status='READY', status_message='', tags={'model': 'xgboost_V2'}, user_id='', version='2'>], name='NYC-TRIP-DURATION', tags={}>]\n"
     ]
    }
   ],
   "source": [
    "# Search for all registered models\n",
    "registered_models = client.search_registered_models()\n",
    "\n",
    "\n",
    "# Print details of each registered model\n",
    "for model in registered_models:\n",
    "    print(f\"Model Name: {model.name}\")\n",
    "    print(f\"Latest Versions: {[v.version for v in model.latest_versions]}\")"
   ]
  },
  {
   "cell_type": "code",
   "execution_count": 18,
   "metadata": {},
   "outputs": [
    {
     "name": "stdout",
     "output_type": "stream",
     "text": [
      "version:2, stage: None\n",
      "version:1, stage: None\n"
     ]
    }
   ],
   "source": [
    "# find the model verison and current stages(staging, production)\n",
    "model_name = \"NYC-TRIP-DURATION\"\n",
    "latest_versions = client.search_model_versions(f\"name='{model_name}'\")\n",
    "\n",
    "for version in latest_versions:\n",
    "    print(f\"version:{version.version}, stage: {version.current_stage}\")\n"
   ]
  },
  {
   "cell_type": "code",
   "execution_count": 19,
   "metadata": {},
   "outputs": [
    {
     "name": "stderr",
     "output_type": "stream",
     "text": [
      "/tmp/ipykernel_2299/4103256433.py:5: FutureWarning: ``mlflow.tracking.client.MlflowClient.transition_model_version_stage`` is deprecated since 2.9.0. Model registry stages will be removed in a future major release. To learn more about the deprecation of model registry stages, see our migration guide here: https://mlflow.org/docs/latest/model-registry.html#migrating-from-stages\n",
      "  client.transition_model_version_stage(\n",
      "/tmp/ipykernel_2299/4103256433.py:13: FutureWarning: ``mlflow.tracking.client.MlflowClient.transition_model_version_stage`` is deprecated since 2.9.0. Model registry stages will be removed in a future major release. To learn more about the deprecation of model registry stages, see our migration guide here: https://mlflow.org/docs/latest/model-registry.html#migrating-from-stages\n",
      "  client.transition_model_version_stage(\n"
     ]
    },
    {
     "data": {
      "text/plain": [
       "<ModelVersion: aliases=[], creation_timestamp=1730135668490, current_stage='Production', description='new york taxi trip duration - xgboost 2', last_updated_timestamp=1730137977916, name='NYC-TRIP-DURATION', run_id='49cde9daddef4338a3a23a12f1283a26', run_link='', source='mlflow-artifacts:/965139444109075764/49cde9daddef4338a3a23a12f1283a26/artifacts/model', status='READY', status_message='', tags={'model': 'xgboost_V2'}, user_id='', version='2'>"
      ]
     },
     "execution_count": 19,
     "metadata": {},
     "output_type": "execute_result"
    }
   ],
   "source": [
    "# transition model to different stages\n",
    "staging_version = 1 \n",
    "production_version = 2\n",
    "\n",
    "client.transition_model_version_stage(\n",
    "    name= model_name,\n",
    "    version= staging_version,\n",
    "    stage=\"Staging\",\n",
    "    archive_existing_versions=False\n",
    "\n",
    ")\n",
    "\n",
    "client.transition_model_version_stage(\n",
    "    name= model_name,\n",
    "    version= production_version,\n",
    "    stage=\"Production\",\n",
    "    archive_existing_versions=False\n",
    "\n",
    ")"
   ]
  },
  {
   "cell_type": "code",
   "execution_count": 23,
   "metadata": {},
   "outputs": [
    {
     "data": {
      "text/plain": [
       "'2.16.2'"
      ]
     },
     "execution_count": 23,
     "metadata": {},
     "output_type": "execute_result"
    }
   ],
   "source": []
  }
 ],
 "metadata": {
  "kernelspec": {
   "display_name": "exp-tracking-env",
   "language": "python",
   "name": "python3"
  },
  "language_info": {
   "codemirror_mode": {
    "name": "ipython",
    "version": 3
   },
   "file_extension": ".py",
   "mimetype": "text/x-python",
   "name": "python",
   "nbconvert_exporter": "python",
   "pygments_lexer": "ipython3",
   "version": "3.9.19"
  }
 },
 "nbformat": 4,
 "nbformat_minor": 2
}
